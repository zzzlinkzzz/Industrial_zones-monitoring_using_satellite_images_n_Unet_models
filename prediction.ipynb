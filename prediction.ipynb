{
 "cells": [
  {
   "cell_type": "code",
   "execution_count": 2,
   "id": "7bc650b8",
   "metadata": {},
   "outputs": [],
   "source": [
    "import torch\n",
    "from torch.utils.data import Dataset, DataLoader\n",
    "from Unet_model import Unet_model\n",
    "from validation import eval_net_loader\n",
    "# from utils import mask2rgb\n",
    "from sklearn.metrics import confusion_matrix\n",
    "\n",
    "from PIL import Image\n",
    "import numpy as np\n",
    "\n",
    "import seaborn as sns\n",
    "import pandas as pd\n",
    "import matplotlib.pyplot as plt\n",
    "from tqdm import tqdm\n",
    "from os import listdir, makedirs\n",
    "from os.path import isfile, join, exists"
   ]
  },
  {
   "cell_type": "code",
   "execution_count": 1,
   "id": "a499357a",
   "metadata": {},
   "outputs": [
    {
     "ename": "FileNotFoundError",
     "evalue": "[Errno 2] No such file or directory: './data_512_128/train/images/'",
     "output_type": "error",
     "traceback": [
      "\u001b[0;31m---------------------------------------------------------------------------\u001b[0m",
      "\u001b[0;31mFileNotFoundError\u001b[0m                         Traceback (most recent call last)",
      "\u001b[0;32m/tmp/ipykernel_62870/24691941.py\u001b[0m in \u001b[0;36m<module>\u001b[0;34m\u001b[0m\n\u001b[1;32m      3\u001b[0m \u001b[0;32mfrom\u001b[0m \u001b[0mos\u001b[0m\u001b[0;34m.\u001b[0m\u001b[0mpath\u001b[0m \u001b[0;32mimport\u001b[0m \u001b[0misfile\u001b[0m\u001b[0;34m,\u001b[0m \u001b[0mjoin\u001b[0m\u001b[0;34m\u001b[0m\u001b[0;34m\u001b[0m\u001b[0m\n\u001b[1;32m      4\u001b[0m \u001b[0mpath\u001b[0m \u001b[0;34m=\u001b[0m\u001b[0;34m'./data_512_128/train/'\u001b[0m\u001b[0;34m\u001b[0m\u001b[0;34m\u001b[0m\u001b[0m\n\u001b[0;32m----> 5\u001b[0;31m \u001b[0mdataset\u001b[0m \u001b[0;34m=\u001b[0m \u001b[0mset\u001b[0m\u001b[0;34m(\u001b[0m\u001b[0;34m[\u001b[0m\u001b[0mf\u001b[0m \u001b[0;32mfor\u001b[0m \u001b[0mf\u001b[0m \u001b[0;32min\u001b[0m \u001b[0mlistdir\u001b[0m\u001b[0;34m(\u001b[0m\u001b[0mpath\u001b[0m\u001b[0;34m+\u001b[0m\u001b[0;34m'images/'\u001b[0m\u001b[0;34m)\u001b[0m \u001b[0;32mif\u001b[0m \u001b[0misfile\u001b[0m\u001b[0;34m(\u001b[0m\u001b[0mjoin\u001b[0m\u001b[0;34m(\u001b[0m\u001b[0mpath\u001b[0m\u001b[0;34m+\u001b[0m\u001b[0;34m'images/'\u001b[0m\u001b[0;34m,\u001b[0m \u001b[0mf\u001b[0m\u001b[0;34m)\u001b[0m\u001b[0;34m)\u001b[0m \u001b[0;32mand\u001b[0m \u001b[0;34m\".png\"\u001b[0m \u001b[0;32min\u001b[0m \u001b[0mf\u001b[0m\u001b[0;34m]\u001b[0m\u001b[0;34m)\u001b[0m\u001b[0;34m\u001b[0m\u001b[0;34m\u001b[0m\u001b[0m\n\u001b[0m\u001b[1;32m      6\u001b[0m \u001b[0mmaskset\u001b[0m \u001b[0;34m=\u001b[0m \u001b[0mset\u001b[0m\u001b[0;34m(\u001b[0m\u001b[0;34m[\u001b[0m\u001b[0mf\u001b[0m \u001b[0;32mfor\u001b[0m \u001b[0mf\u001b[0m \u001b[0;32min\u001b[0m \u001b[0mlistdir\u001b[0m\u001b[0;34m(\u001b[0m\u001b[0mpath\u001b[0m\u001b[0;34m+\u001b[0m\u001b[0;34m'masks/'\u001b[0m\u001b[0;34m)\u001b[0m \u001b[0;32mif\u001b[0m \u001b[0misfile\u001b[0m\u001b[0;34m(\u001b[0m\u001b[0mjoin\u001b[0m\u001b[0;34m(\u001b[0m\u001b[0mpath\u001b[0m\u001b[0;34m+\u001b[0m\u001b[0;34m'masks/'\u001b[0m\u001b[0;34m,\u001b[0m \u001b[0mf\u001b[0m\u001b[0;34m)\u001b[0m\u001b[0;34m)\u001b[0m \u001b[0;32mand\u001b[0m \u001b[0;34m\".png\"\u001b[0m \u001b[0;32min\u001b[0m \u001b[0mf\u001b[0m\u001b[0;34m]\u001b[0m\u001b[0;34m)\u001b[0m\u001b[0;34m\u001b[0m\u001b[0;34m\u001b[0m\u001b[0m\n\u001b[1;32m      7\u001b[0m \u001b[0;34m\u001b[0m\u001b[0m\n",
      "\u001b[0;31mFileNotFoundError\u001b[0m: [Errno 2] No such file or directory: './data_512_128/train/images/'"
     ]
    }
   ],
   "source": [
    "# utils\n",
    "from os import listdir\n",
    "from os.path import isfile, join\n",
    "path ='./data_512_128/train/'\n",
    "dataset = set([f for f in listdir(path+'images/') if isfile(join(path+'images/', f)) and \".png\" in f])\n",
    "maskset = set([f for f in listdir(path+'masks/') if isfile(join(path+'masks/', f)) and \".png\" in f])\n",
    "\n",
    "removeset1 = dataset - maskset\n",
    "print(len(removeset1))\n",
    "removeset2 = maskset - dataset\n",
    "print(len(removeset2))\n",
    "# from os import remove\n",
    "# for file in removeset:\n",
    "#   remove(path+'images/'+file)\n",
    "\n",
    "#   removeset = dataset - maskset\n",
    "# print(removeset)"
   ]
  },
  {
   "cell_type": "code",
   "execution_count": 7,
   "id": "715e2528",
   "metadata": {},
   "outputs": [],
   "source": [
    "from os import listdir\n",
    "from os.path import isfile, join\n",
    "from random import shuffle\n",
    "path ='./data_512_128/train/'\n",
    "\n",
    "dataset = [f for f in listdir(path+'images/') if isfile(join(path+'images/', f)) and \".png\" in f]\n",
    "shuffle(dataset)\n",
    "k = len(dataset)//2\n",
    "\n",
    "moveset = dataset[k:]\n",
    "\n",
    "from shutil import copy\n",
    "from os import remove\n",
    "# for file in moveset:\n",
    "#     copy(path+'images/'+file,path+'images_part1')\n",
    "#     remove(path+'images/'+file)\n",
    "#     copy(path+'masks/'+file,path+'masks_part1')\n",
    "#     remove(path+'masks/'+file)"
   ]
  },
  {
   "cell_type": "markdown",
   "id": "c0cf5bae",
   "metadata": {},
   "source": [
    "# Create predicted directory"
   ]
  },
  {
   "cell_type": "code",
   "execution_count": 4,
   "id": "7ab1a91e",
   "metadata": {},
   "outputs": [],
   "source": [
    "for i in range(1,20):\n",
    "    if not exists(f'predict/predict_{i}'):\n",
    "        makedirs(f'predict/predict_{i}')"
   ]
  },
  {
   "cell_type": "markdown",
   "id": "49adba5c",
   "metadata": {},
   "source": [
    "# predict"
   ]
  },
  {
   "cell_type": "code",
   "execution_count": 6,
   "id": "29aaa9fd",
   "metadata": {},
   "outputs": [
    {
     "name": "stderr",
     "output_type": "stream",
     "text": [
      "100%|████████████████████████████████████████| 388/388 [19:10<00:00,  2.97s/it]\n",
      "100%|████████████████████████████████████████| 388/388 [19:24<00:00,  3.00s/it]\n",
      "100%|████████████████████████████████████████| 388/388 [20:18<00:00,  3.14s/it]\n"
     ]
    }
   ],
   "source": [
    "palletes = {\n",
    "    0: [0,0,0],\n",
    "    1: [255,0,0],\n",
    "    2: [255,255,0],\n",
    "    3: [255,0,255],\n",
    "    4: [0,255,0],\n",
    "    5: [0,255,255]\n",
    "}\n",
    "\n",
    "def mask2rgb(mask):\n",
    "    rgb = np.zeros(mask.shape+(3,), dtype=np.uint8)\n",
    "    for i in np.unique(mask):\n",
    "            rgb[mask==i] = palletes[i]\n",
    "    return rgb\n",
    "\n",
    "class GetData(Dataset):\n",
    "    def __init__(self, data_path):\n",
    "        self.data_path = data_path\n",
    "        self.data_files = listdir(data_path)\n",
    "\n",
    "    def __len__(self):\n",
    "        return len(self.data_files)\n",
    "\n",
    "    def __getitem__(self, index):\n",
    "        image = Image.open(self.data_path + '/' + self.data_files[index])\n",
    "        image = np.array(image)/255\n",
    "        sample = {\n",
    "            'image': torch.from_numpy(image).permute(2,0,1).float(),\n",
    "            'name': self.data_files[index]\n",
    "        }\n",
    "\n",
    "        return sample\n",
    "    \n",
    "dataset = GetData('./predict/images')\n",
    "loader = DataLoader(dataset, batch_size = 2, num_workers = 2, drop_last=True)\n",
    "\n",
    "for fi in range(17,20):\n",
    "    trained_model = f'./cp_unet_512_v4_weighted/CP{fi}.pth'\n",
    "    net = Unet_model(in_channels=3 ,n_classes=6)\n",
    "    net.load_state_dict(torch.load(trained_model))\n",
    "    net.eval()\n",
    "\n",
    "    for batch in tqdm(loader):\n",
    "        outputs = net(batch['image'])\n",
    "        probs = torch.softmax(outputs, dim=1)\n",
    "        preds = torch.argmax(probs, dim=1)\n",
    "\n",
    "        for i,name in enumerate(batch['name']):\n",
    "            rgb = mask2rgb(preds[i])\n",
    "            rgb = Image.fromarray(rgb, 'RGB')\n",
    "            rgb.save(f'./predict/predict_{fi}/{name}')"
   ]
  },
  {
   "cell_type": "code",
   "execution_count": 3,
   "id": "7db67ccd",
   "metadata": {},
   "outputs": [
    {
     "name": "stdout",
     "output_type": "stream",
     "text": [
      "Working on folder 15 ...\n"
     ]
    },
    {
     "name": "stderr",
     "output_type": "stream",
     "text": [
      "100%|████████████████████████████████████████| 776/776 [00:02<00:00, 351.77it/s]\n"
     ]
    },
    {
     "name": "stdout",
     "output_type": "stream",
     "text": [
      "Writing result ...\n",
      "Done!\n",
      "Working on folder 16 ...\n"
     ]
    },
    {
     "name": "stderr",
     "output_type": "stream",
     "text": [
      "100%|████████████████████████████████████████| 776/776 [00:02<00:00, 367.33it/s]\n"
     ]
    },
    {
     "name": "stdout",
     "output_type": "stream",
     "text": [
      "Writing result ...\n",
      "Done!\n",
      "Working on folder 17 ...\n"
     ]
    },
    {
     "name": "stderr",
     "output_type": "stream",
     "text": [
      "100%|████████████████████████████████████████| 776/776 [00:02<00:00, 336.96it/s]\n"
     ]
    },
    {
     "name": "stdout",
     "output_type": "stream",
     "text": [
      "Writing result ...\n",
      "Done!\n",
      "Working on folder 18 ...\n"
     ]
    },
    {
     "name": "stderr",
     "output_type": "stream",
     "text": [
      "100%|████████████████████████████████████████| 776/776 [00:02<00:00, 337.46it/s]\n"
     ]
    },
    {
     "name": "stdout",
     "output_type": "stream",
     "text": [
      "Writing result ...\n",
      "Done!\n",
      "Working on folder 19 ...\n"
     ]
    },
    {
     "name": "stderr",
     "output_type": "stream",
     "text": [
      "100%|████████████████████████████████████████| 776/776 [00:02<00:00, 324.96it/s]\n"
     ]
    },
    {
     "name": "stdout",
     "output_type": "stream",
     "text": [
      "Writing result ...\n",
      "Done!\n",
      "Working on folder 20 ...\n"
     ]
    },
    {
     "name": "stderr",
     "output_type": "stream",
     "text": [
      "100%|████████████████████████████████████████| 776/776 [00:02<00:00, 282.85it/s]\n"
     ]
    },
    {
     "name": "stdout",
     "output_type": "stream",
     "text": [
      "Writing result ...\n",
      "Done!\n"
     ]
    }
   ],
   "source": [
    "Image.MAX_IMAGE_PIXELS = None\n",
    "stride_pixel = 512\n",
    "image_size = 512\n",
    "for fi in range(15,21):\n",
    "    print(f'Working on folder {fi} ...')\n",
    "    predict_path = f'./predict/predict_{fi}'\n",
    "    predict_files = listdir(predict_path)\n",
    "    paste_field = Image.new(mode=\"RGB\", size=(25088,23040))\n",
    "    for piece in tqdm(predict_files):\n",
    "        c,r = piece.replace('.png','').split('-')\n",
    "        c,r = int(c), int(r)\n",
    "        piece = Image.open(predict_path+'/'+piece)\n",
    "        paste_field.paste(piece,(c*stride_pixel,r*stride_pixel))\n",
    "\n",
    "    print('Writing result ...')\n",
    "    paste_field.save(f'./predict/result_{fi}.png')\n",
    "    print('Done!')"
   ]
  },
  {
   "cell_type": "markdown",
   "id": "c467d3dc",
   "metadata": {},
   "source": [
    "# calculate confusion matrix"
   ]
  },
  {
   "cell_type": "code",
   "execution_count": 5,
   "id": "90fbf955",
   "metadata": {},
   "outputs": [],
   "source": [
    "dataset = MyDataset('./data/val', transform = None)\n",
    "loader = DataLoader(dataset, batch_size = 2, num_workers = 2, drop_last=True)"
   ]
  },
  {
   "cell_type": "code",
   "execution_count": 6,
   "id": "f4c7675c",
   "metadata": {},
   "outputs": [],
   "source": [
    "def compute_IoU(cm):\n",
    "\n",
    "    sum_over_row = cm.sum(axis=0)\n",
    "    sum_over_col = cm.sum(axis=1)\n",
    "    true_positives = np.diag(cm)\n",
    "\n",
    "    denominator = sum_over_row + sum_over_col - true_positives\n",
    "    \n",
    "    iou = true_positives / denominator\n",
    "    \n",
    "    return iou, np.nanmean(iou)\n",
    "\n",
    "\n",
    "def eval_net_loader(net, val_loader, n_classes, device = 'cpu'):\n",
    "    net.eval()\n",
    "    labels = np.arange(n_classes)\n",
    "    cm = np.zeros((n_classes,n_classes))\n",
    "\n",
    "    for i, batch in enumerate(tqdm(val_loader)):\n",
    "        imgs = batch['image'].to(device)\n",
    "        masks = batch['mask'].to(device)\n",
    "        \n",
    "        outputs = net(imgs)\n",
    "        probs = torch.softmax(outputs, dim=1)\n",
    "        preds = torch.argmax(probs, dim=1)\n",
    "\n",
    "        for j in range(len(masks)):\n",
    "            true = masks[j].cpu().detach().numpy().flatten()\n",
    "            pred = preds[j].cpu().detach().numpy().flatten()\n",
    "            cm += confusion_matrix(true, pred, labels=labels)\n",
    "\n",
    "    class_iou, mean_iou = compute_IoU(cm)\n",
    "    return cm, class_iou, mean_iou"
   ]
  },
  {
   "cell_type": "code",
   "execution_count": 8,
   "id": "66a0865f",
   "metadata": {
    "scrolled": true
   },
   "outputs": [
    {
     "name": "stderr",
     "output_type": "stream",
     "text": [
      "100%|█████████████████████████████████████████| 138/138 [06:36<00:00,  2.88s/it]\n"
     ]
    },
    {
     "data": {
      "text/plain": [
       "<AxesSubplot:>"
      ]
     },
     "execution_count": 8,
     "metadata": {},
     "output_type": "execute_result"
    },
    {
     "data": {
      "image/png": "[encoded data removed]",
      "text/plain": [
       "<Figure size 720x504 with 2 Axes>"
      ]
     },
     "metadata": {
      "needs_background": "light"
     },
     "output_type": "display_data"
    }
   ],
   "source": [
    "cm, class_iou, mean_iou = eval_net_loader(net, loader, 6, device = 'cpu')\n",
    "labels = ['outsize','building','Unused land','street','tree','yard']\n",
    "df_cm = pd.DataFrame(cm, index = labels, columns = labels)\n",
    "plt.figure(figsize = (10,7))\n",
    "sn.heatmap(df_cm, annot=True)"
   ]
  }
 ],
 "metadata": {
  "kernelspec": {
   "display_name": "Python 3 (ipykernel)",
   "language": "python",
   "name": "python3"
  },
  "language_info": {
   "codemirror_mode": {
    "name": "ipython",
    "version": 3
   },
   "file_extension": ".py",
   "mimetype": "text/x-python",
   "name": "python",
   "nbconvert_exporter": "python",
   "pygments_lexer": "ipython3",
   "version": "3.9.7"
  }
 },
 "nbformat": 4,
 "nbformat_minor": 5
}
